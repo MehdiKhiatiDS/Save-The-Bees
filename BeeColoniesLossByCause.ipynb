{
 "cells": [
  {
   "cell_type": "code",
   "execution_count": 1,
   "metadata": {},
   "outputs": [
    {
     "data": {
      "application/javascript": [
       "\n",
       "            setTimeout(function() {\n",
       "                var nbb_cell_id = 1;\n",
       "                var nbb_unformatted_code = \"%reload_ext nb_black\";\n",
       "                var nbb_formatted_code = \"%reload_ext nb_black\";\n",
       "                var nbb_cells = Jupyter.notebook.get_cells();\n",
       "                for (var i = 0; i < nbb_cells.length; ++i) {\n",
       "                    if (nbb_cells[i].input_prompt_number == nbb_cell_id) {\n",
       "                        if (nbb_cells[i].get_text() == nbb_unformatted_code) {\n",
       "                             nbb_cells[i].set_text(nbb_formatted_code);\n",
       "                        }\n",
       "                        break;\n",
       "                    }\n",
       "                }\n",
       "            }, 500);\n",
       "            "
      ],
      "text/plain": [
       "<IPython.core.display.Javascript object>"
      ]
     },
     "metadata": {},
     "output_type": "display_data"
    }
   ],
   "source": [
    "%reload_ext nb_black"
   ]
  },
  {
   "cell_type": "code",
   "execution_count": 2,
   "metadata": {},
   "outputs": [
    {
     "data": {
      "application/javascript": [
       "\n",
       "            setTimeout(function() {\n",
       "                var nbb_cell_id = 2;\n",
       "                var nbb_unformatted_code = \"import pandas as pd\\nimport numpy as np\\n\\nfrom scipy import stats\\n\\nfrom statsmodels.graphics.gofplots import qqplot\\n\\n#import statsmodels.api as sm\\n\\nfrom statsmodels.stats.multitest import multipletests\\n\\nimport seaborn as sns\\nimport matplotlib.pyplot as plt\\n\\n%matplotlib inline\";\n",
       "                var nbb_formatted_code = \"import pandas as pd\\nimport numpy as np\\n\\nfrom scipy import stats\\n\\nfrom statsmodels.graphics.gofplots import qqplot\\n\\n# import statsmodels.api as sm\\n\\nfrom statsmodels.stats.multitest import multipletests\\n\\nimport seaborn as sns\\nimport matplotlib.pyplot as plt\\n\\n%matplotlib inline\";\n",
       "                var nbb_cells = Jupyter.notebook.get_cells();\n",
       "                for (var i = 0; i < nbb_cells.length; ++i) {\n",
       "                    if (nbb_cells[i].input_prompt_number == nbb_cell_id) {\n",
       "                        if (nbb_cells[i].get_text() == nbb_unformatted_code) {\n",
       "                             nbb_cells[i].set_text(nbb_formatted_code);\n",
       "                        }\n",
       "                        break;\n",
       "                    }\n",
       "                }\n",
       "            }, 500);\n",
       "            "
      ],
      "text/plain": [
       "<IPython.core.display.Javascript object>"
      ]
     },
     "metadata": {},
     "output_type": "display_data"
    }
   ],
   "source": [
    "import pandas as pd\n",
    "import numpy as np\n",
    "\n",
    "from scipy import stats\n",
    "\n",
    "from statsmodels.graphics.gofplots import qqplot\n",
    "\n",
    "# import statsmodels.api as sm\n",
    "\n",
    "from statsmodels.stats.multitest import multipletests\n",
    "\n",
    "import seaborn as sns\n",
    "import matplotlib.pyplot as plt\n",
    "\n",
    "%matplotlib inline"
   ]
  },
  {
   "cell_type": "code",
   "execution_count": 3,
   "metadata": {},
   "outputs": [
    {
     "data": {
      "application/javascript": [
       "\n",
       "            setTimeout(function() {\n",
       "                var nbb_cell_id = 3;\n",
       "                var nbb_unformatted_code = \"# def cles_ind(x1, x2):\\n#     \\\"\\\"\\\"Calc common language effect size\\n\\n#     Interpret as the probability that a score sampled\\n#     at random from one distribution will be greater than\\n#     a score sampled from some other distribution.\\n\\n#     Based on: http://psycnet.apa.org/doi/10.1037/0033-2909.111.2.361\\n\\n#     :param x1: sample 1\\n#     :param x2: sample 2\\n#     :return: (float) common language effect size\\n#     \\\"\\\"\\\"\\n#     x1 = np.array(x1)\\n#     x2 = np.array(x2)\\n\\n#     diff = x1[:, None] - x2\\n#     cles = max((diff < 0).sum(), (diff > 0).sum()) / diff.size\\n\\n#     return cles\";\n",
       "                var nbb_formatted_code = \"# def cles_ind(x1, x2):\\n#     \\\"\\\"\\\"Calc common language effect size\\n\\n#     Interpret as the probability that a score sampled\\n#     at random from one distribution will be greater than\\n#     a score sampled from some other distribution.\\n\\n#     Based on: http://psycnet.apa.org/doi/10.1037/0033-2909.111.2.361\\n\\n#     :param x1: sample 1\\n#     :param x2: sample 2\\n#     :return: (float) common language effect size\\n#     \\\"\\\"\\\"\\n#     x1 = np.array(x1)\\n#     x2 = np.array(x2)\\n\\n#     diff = x1[:, None] - x2\\n#     cles = max((diff < 0).sum(), (diff > 0).sum()) / diff.size\\n\\n#     return cles\";\n",
       "                var nbb_cells = Jupyter.notebook.get_cells();\n",
       "                for (var i = 0; i < nbb_cells.length; ++i) {\n",
       "                    if (nbb_cells[i].input_prompt_number == nbb_cell_id) {\n",
       "                        if (nbb_cells[i].get_text() == nbb_unformatted_code) {\n",
       "                             nbb_cells[i].set_text(nbb_formatted_code);\n",
       "                        }\n",
       "                        break;\n",
       "                    }\n",
       "                }\n",
       "            }, 500);\n",
       "            "
      ],
      "text/plain": [
       "<IPython.core.display.Javascript object>"
      ]
     },
     "metadata": {},
     "output_type": "display_data"
    }
   ],
   "source": [
    "# def cles_ind(x1, x2):\n",
    "#     \"\"\"Calc common language effect size\n",
    "\n",
    "#     Interpret as the probability that a score sampled\n",
    "#     at random from one distribution will be greater than\n",
    "#     a score sampled from some other distribution.\n",
    "\n",
    "#     Based on: http://psycnet.apa.org/doi/10.1037/0033-2909.111.2.361\n",
    "\n",
    "#     :param x1: sample 1\n",
    "#     :param x2: sample 2\n",
    "#     :return: (float) common language effect size\n",
    "#     \"\"\"\n",
    "#     x1 = np.array(x1)\n",
    "#     x2 = np.array(x2)\n",
    "\n",
    "#     diff = x1[:, None] - x2\n",
    "#     cles = max((diff < 0).sum(), (diff > 0).sum()) / diff.size\n",
    "\n",
    "#     return cles"
   ]
  },
  {
   "cell_type": "markdown",
   "metadata": {},
   "source": [
    "Data from: https://quickstats.nass.usda.gov/ with the following selections:\n",
    "https://quickstats.nass.usda.gov/#D060E924-8D7D-33EB-ADE8-AB2D0DBA1862\n",
    "\n",
    "CCD: HONEY, BEE COLONIES - LOSS, COLONY COLLAPSE DISORDER, MEASURED IN COLONIES\n",
    "\n",
    "DEADOUT: HONEY, BEE COLONIES - LOSS, DEADOUT, MEASURED IN COLONIES"
   ]
  },
  {
   "cell_type": "markdown",
   "metadata": {},
   "source": [
    "1. analyze the lost colonies for the goups with CCD or DEADOUT reasons\n",
    "2. ??? analyze the lost colonies in the JAN THRU MAR period for 2019 and 2020 ????"
   ]
  },
  {
   "cell_type": "code",
   "execution_count": 4,
   "metadata": {},
   "outputs": [
    {
     "data": {
      "text/html": [
       "<div>\n",
       "<style scoped>\n",
       "    .dataframe tbody tr th:only-of-type {\n",
       "        vertical-align: middle;\n",
       "    }\n",
       "\n",
       "    .dataframe tbody tr th {\n",
       "        vertical-align: top;\n",
       "    }\n",
       "\n",
       "    .dataframe thead th {\n",
       "        text-align: right;\n",
       "    }\n",
       "</style>\n",
       "<table border=\"1\" class=\"dataframe\">\n",
       "  <thead>\n",
       "    <tr style=\"text-align: right;\">\n",
       "      <th></th>\n",
       "      <th>Program</th>\n",
       "      <th>Year</th>\n",
       "      <th>Period</th>\n",
       "      <th>Week Ending</th>\n",
       "      <th>Geo Level</th>\n",
       "      <th>State</th>\n",
       "      <th>State ANSI</th>\n",
       "      <th>Ag District</th>\n",
       "      <th>Ag District Code</th>\n",
       "      <th>County</th>\n",
       "      <th>...</th>\n",
       "      <th>Zip Code</th>\n",
       "      <th>Region</th>\n",
       "      <th>watershed_code</th>\n",
       "      <th>Watershed</th>\n",
       "      <th>Commodity</th>\n",
       "      <th>Data Item</th>\n",
       "      <th>Domain</th>\n",
       "      <th>Domain Category</th>\n",
       "      <th>Value</th>\n",
       "      <th>CV (%)</th>\n",
       "    </tr>\n",
       "  </thead>\n",
       "  <tbody>\n",
       "    <tr>\n",
       "      <th>0</th>\n",
       "      <td>SURVEY</td>\n",
       "      <td>2020</td>\n",
       "      <td>JAN THRU MAR</td>\n",
       "      <td>NaN</td>\n",
       "      <td>STATE</td>\n",
       "      <td>ALABAMA</td>\n",
       "      <td>1.0</td>\n",
       "      <td>NaN</td>\n",
       "      <td>NaN</td>\n",
       "      <td>NaN</td>\n",
       "      <td>...</td>\n",
       "      <td>NaN</td>\n",
       "      <td>NaN</td>\n",
       "      <td>0</td>\n",
       "      <td>NaN</td>\n",
       "      <td>HONEY</td>\n",
       "      <td>HONEY, BEE COLONIES - LOSS, COLONY COLLAPSE DI...</td>\n",
       "      <td>TOTAL</td>\n",
       "      <td>NOT SPECIFIED</td>\n",
       "      <td>70</td>\n",
       "      <td>NaN</td>\n",
       "    </tr>\n",
       "    <tr>\n",
       "      <th>1</th>\n",
       "      <td>SURVEY</td>\n",
       "      <td>2020</td>\n",
       "      <td>JAN THRU MAR</td>\n",
       "      <td>NaN</td>\n",
       "      <td>STATE</td>\n",
       "      <td>ALABAMA</td>\n",
       "      <td>1.0</td>\n",
       "      <td>NaN</td>\n",
       "      <td>NaN</td>\n",
       "      <td>NaN</td>\n",
       "      <td>...</td>\n",
       "      <td>NaN</td>\n",
       "      <td>NaN</td>\n",
       "      <td>0</td>\n",
       "      <td>NaN</td>\n",
       "      <td>HONEY</td>\n",
       "      <td>HONEY, BEE COLONIES - LOSS, DEADOUT, MEASURED ...</td>\n",
       "      <td>TOTAL</td>\n",
       "      <td>NOT SPECIFIED</td>\n",
       "      <td>410</td>\n",
       "      <td>NaN</td>\n",
       "    </tr>\n",
       "  </tbody>\n",
       "</table>\n",
       "<p>2 rows × 21 columns</p>\n",
       "</div>"
      ],
      "text/plain": [
       "  Program  Year        Period  Week Ending Geo Level    State  State ANSI  \\\n",
       "0  SURVEY  2020  JAN THRU MAR          NaN     STATE  ALABAMA         1.0   \n",
       "1  SURVEY  2020  JAN THRU MAR          NaN     STATE  ALABAMA         1.0   \n",
       "\n",
       "   Ag District  Ag District Code  County  ...  Zip Code  Region  \\\n",
       "0          NaN               NaN     NaN  ...       NaN     NaN   \n",
       "1          NaN               NaN     NaN  ...       NaN     NaN   \n",
       "\n",
       "   watershed_code  Watershed  Commodity  \\\n",
       "0               0        NaN      HONEY   \n",
       "1               0        NaN      HONEY   \n",
       "\n",
       "                                           Data Item Domain Domain Category  \\\n",
       "0  HONEY, BEE COLONIES - LOSS, COLONY COLLAPSE DI...  TOTAL   NOT SPECIFIED   \n",
       "1  HONEY, BEE COLONIES - LOSS, DEADOUT, MEASURED ...  TOTAL   NOT SPECIFIED   \n",
       "\n",
       "  Value CV (%)  \n",
       "0    70    NaN  \n",
       "1   410    NaN  \n",
       "\n",
       "[2 rows x 21 columns]"
      ]
     },
     "execution_count": 4,
     "metadata": {},
     "output_type": "execute_result"
    },
    {
     "data": {
      "application/javascript": [
       "\n",
       "            setTimeout(function() {\n",
       "                var nbb_cell_id = 4;\n",
       "                var nbb_unformatted_code = \"df = pd.read_csv(\\\"data/raw_data.csv\\\")\\ndf.head(2)\";\n",
       "                var nbb_formatted_code = \"df = pd.read_csv(\\\"data/raw_data.csv\\\")\\ndf.head(2)\";\n",
       "                var nbb_cells = Jupyter.notebook.get_cells();\n",
       "                for (var i = 0; i < nbb_cells.length; ++i) {\n",
       "                    if (nbb_cells[i].input_prompt_number == nbb_cell_id) {\n",
       "                        if (nbb_cells[i].get_text() == nbb_unformatted_code) {\n",
       "                             nbb_cells[i].set_text(nbb_formatted_code);\n",
       "                        }\n",
       "                        break;\n",
       "                    }\n",
       "                }\n",
       "            }, 500);\n",
       "            "
      ],
      "text/plain": [
       "<IPython.core.display.Javascript object>"
      ]
     },
     "metadata": {},
     "output_type": "display_data"
    }
   ],
   "source": [
    "df = pd.read_csv(\"data/raw_data.csv\")\n",
    "df.head(2)"
   ]
  },
  {
   "cell_type": "code",
   "execution_count": 34,
   "metadata": {},
   "outputs": [
    {
     "name": "stdout",
     "output_type": "stream",
     "text": [
      "<class 'pandas.core.frame.DataFrame'>\n",
      "RangeIndex: 458 entries, 0 to 457\n",
      "Data columns (total 21 columns):\n",
      " #   Column            Non-Null Count  Dtype  \n",
      "---  ------            --------------  -----  \n",
      " 0   Program           458 non-null    object \n",
      " 1   Year              458 non-null    int64  \n",
      " 2   Period            458 non-null    object \n",
      " 3   Week Ending       0 non-null      float64\n",
      " 4   Geo Level         458 non-null    object \n",
      " 5   State             458 non-null    object \n",
      " 6   State ANSI        450 non-null    float64\n",
      " 7   Ag District       0 non-null      float64\n",
      " 8   Ag District Code  0 non-null      float64\n",
      " 9   County            0 non-null      float64\n",
      " 10  County ANSI       0 non-null      float64\n",
      " 11  Zip Code          0 non-null      float64\n",
      " 12  Region            0 non-null      float64\n",
      " 13  watershed_code    458 non-null    int64  \n",
      " 14  Watershed         0 non-null      float64\n",
      " 15  Commodity         458 non-null    object \n",
      " 16  Data Item         458 non-null    object \n",
      " 17  Domain            458 non-null    object \n",
      " 18  Domain Category   458 non-null    object \n",
      " 19  Value             458 non-null    object \n",
      " 20  CV (%)            0 non-null      float64\n",
      "dtypes: float64(10), int64(2), object(9)\n",
      "memory usage: 75.3+ KB\n"
     ]
    },
    {
     "data": {
      "application/javascript": [
       "\n",
       "            setTimeout(function() {\n",
       "                var nbb_cell_id = 34;\n",
       "                var nbb_unformatted_code = \"df.info()\";\n",
       "                var nbb_formatted_code = \"df.info()\";\n",
       "                var nbb_cells = Jupyter.notebook.get_cells();\n",
       "                for (var i = 0; i < nbb_cells.length; ++i) {\n",
       "                    if (nbb_cells[i].input_prompt_number == nbb_cell_id) {\n",
       "                        if (nbb_cells[i].get_text() == nbb_unformatted_code) {\n",
       "                             nbb_cells[i].set_text(nbb_formatted_code);\n",
       "                        }\n",
       "                        break;\n",
       "                    }\n",
       "                }\n",
       "            }, 500);\n",
       "            "
      ],
      "text/plain": [
       "<IPython.core.display.Javascript object>"
      ]
     },
     "metadata": {},
     "output_type": "display_data"
    }
   ],
   "source": [
    "df.info()"
   ]
  },
  {
   "cell_type": "code",
   "execution_count": 5,
   "metadata": {},
   "outputs": [
    {
     "data": {
      "application/javascript": [
       "\n",
       "            setTimeout(function() {\n",
       "                var nbb_cell_id = 5;\n",
       "                var nbb_unformatted_code = \"df_clean = df.drop(\\n    [\\n        \\\"Week Ending\\\",\\n        \\\"Ag District\\\",\\n        \\\"Ag District Code\\\",\\n        \\\"County\\\",\\n        \\\"County ANSI\\\",\\n        \\\"Zip Code\\\",\\n        \\\"Region\\\",\\n        \\\"watershed_code\\\",\\n        \\\"Watershed\\\",\\n        \\\"Commodity\\\",\\n        \\\"Domain\\\",\\n        \\\"Domain Category\\\",\\n        \\\"CV (%)\\\",\\n    ],\\n    axis=1,\\n)\";\n",
       "                var nbb_formatted_code = \"df_clean = df.drop(\\n    [\\n        \\\"Week Ending\\\",\\n        \\\"Ag District\\\",\\n        \\\"Ag District Code\\\",\\n        \\\"County\\\",\\n        \\\"County ANSI\\\",\\n        \\\"Zip Code\\\",\\n        \\\"Region\\\",\\n        \\\"watershed_code\\\",\\n        \\\"Watershed\\\",\\n        \\\"Commodity\\\",\\n        \\\"Domain\\\",\\n        \\\"Domain Category\\\",\\n        \\\"CV (%)\\\",\\n    ],\\n    axis=1,\\n)\";\n",
       "                var nbb_cells = Jupyter.notebook.get_cells();\n",
       "                for (var i = 0; i < nbb_cells.length; ++i) {\n",
       "                    if (nbb_cells[i].input_prompt_number == nbb_cell_id) {\n",
       "                        if (nbb_cells[i].get_text() == nbb_unformatted_code) {\n",
       "                             nbb_cells[i].set_text(nbb_formatted_code);\n",
       "                        }\n",
       "                        break;\n",
       "                    }\n",
       "                }\n",
       "            }, 500);\n",
       "            "
      ],
      "text/plain": [
       "<IPython.core.display.Javascript object>"
      ]
     },
     "metadata": {},
     "output_type": "display_data"
    }
   ],
   "source": [
    "df_clean = df.drop(\n",
    "    [\n",
    "        \"Week Ending\",\n",
    "        \"Ag District\",\n",
    "        \"Ag District Code\",\n",
    "        \"County\",\n",
    "        \"County ANSI\",\n",
    "        \"Zip Code\",\n",
    "        \"Region\",\n",
    "        \"watershed_code\",\n",
    "        \"Watershed\",\n",
    "        \"Commodity\",\n",
    "        \"Domain\",\n",
    "        \"Domain Category\",\n",
    "        \"CV (%)\",\n",
    "    ],\n",
    "    axis=1,\n",
    ")"
   ]
  },
  {
   "cell_type": "code",
   "execution_count": 6,
   "metadata": {},
   "outputs": [
    {
     "data": {
      "text/html": [
       "<div>\n",
       "<style scoped>\n",
       "    .dataframe tbody tr th:only-of-type {\n",
       "        vertical-align: middle;\n",
       "    }\n",
       "\n",
       "    .dataframe tbody tr th {\n",
       "        vertical-align: top;\n",
       "    }\n",
       "\n",
       "    .dataframe thead th {\n",
       "        text-align: right;\n",
       "    }\n",
       "</style>\n",
       "<table border=\"1\" class=\"dataframe\">\n",
       "  <thead>\n",
       "    <tr style=\"text-align: right;\">\n",
       "      <th></th>\n",
       "      <th>Program</th>\n",
       "      <th>Year</th>\n",
       "      <th>Period</th>\n",
       "      <th>Geo Level</th>\n",
       "      <th>State</th>\n",
       "      <th>State ANSI</th>\n",
       "      <th>Data Item</th>\n",
       "      <th>Value</th>\n",
       "    </tr>\n",
       "  </thead>\n",
       "  <tbody>\n",
       "    <tr>\n",
       "      <th>0</th>\n",
       "      <td>SURVEY</td>\n",
       "      <td>2020</td>\n",
       "      <td>JAN THRU MAR</td>\n",
       "      <td>STATE</td>\n",
       "      <td>ALABAMA</td>\n",
       "      <td>1.0</td>\n",
       "      <td>HONEY, BEE COLONIES - LOSS, COLONY COLLAPSE DI...</td>\n",
       "      <td>70</td>\n",
       "    </tr>\n",
       "    <tr>\n",
       "      <th>1</th>\n",
       "      <td>SURVEY</td>\n",
       "      <td>2020</td>\n",
       "      <td>JAN THRU MAR</td>\n",
       "      <td>STATE</td>\n",
       "      <td>ALABAMA</td>\n",
       "      <td>1.0</td>\n",
       "      <td>HONEY, BEE COLONIES - LOSS, DEADOUT, MEASURED ...</td>\n",
       "      <td>410</td>\n",
       "    </tr>\n",
       "    <tr>\n",
       "      <th>2</th>\n",
       "      <td>SURVEY</td>\n",
       "      <td>2020</td>\n",
       "      <td>JAN THRU MAR</td>\n",
       "      <td>STATE</td>\n",
       "      <td>ARIZONA</td>\n",
       "      <td>4.0</td>\n",
       "      <td>HONEY, BEE COLONIES - LOSS, COLONY COLLAPSE DI...</td>\n",
       "      <td>4,300</td>\n",
       "    </tr>\n",
       "    <tr>\n",
       "      <th>3</th>\n",
       "      <td>SURVEY</td>\n",
       "      <td>2020</td>\n",
       "      <td>JAN THRU MAR</td>\n",
       "      <td>STATE</td>\n",
       "      <td>ARIZONA</td>\n",
       "      <td>4.0</td>\n",
       "      <td>HONEY, BEE COLONIES - LOSS, DEADOUT, MEASURED ...</td>\n",
       "      <td>6,500</td>\n",
       "    </tr>\n",
       "    <tr>\n",
       "      <th>4</th>\n",
       "      <td>SURVEY</td>\n",
       "      <td>2020</td>\n",
       "      <td>JAN THRU MAR</td>\n",
       "      <td>STATE</td>\n",
       "      <td>ARKANSAS</td>\n",
       "      <td>5.0</td>\n",
       "      <td>HONEY, BEE COLONIES - LOSS, COLONY COLLAPSE DI...</td>\n",
       "      <td>390</td>\n",
       "    </tr>\n",
       "  </tbody>\n",
       "</table>\n",
       "</div>"
      ],
      "text/plain": [
       "  Program  Year        Period Geo Level     State  State ANSI  \\\n",
       "0  SURVEY  2020  JAN THRU MAR     STATE   ALABAMA         1.0   \n",
       "1  SURVEY  2020  JAN THRU MAR     STATE   ALABAMA         1.0   \n",
       "2  SURVEY  2020  JAN THRU MAR     STATE   ARIZONA         4.0   \n",
       "3  SURVEY  2020  JAN THRU MAR     STATE   ARIZONA         4.0   \n",
       "4  SURVEY  2020  JAN THRU MAR     STATE  ARKANSAS         5.0   \n",
       "\n",
       "                                           Data Item  Value  \n",
       "0  HONEY, BEE COLONIES - LOSS, COLONY COLLAPSE DI...     70  \n",
       "1  HONEY, BEE COLONIES - LOSS, DEADOUT, MEASURED ...    410  \n",
       "2  HONEY, BEE COLONIES - LOSS, COLONY COLLAPSE DI...  4,300  \n",
       "3  HONEY, BEE COLONIES - LOSS, DEADOUT, MEASURED ...  6,500  \n",
       "4  HONEY, BEE COLONIES - LOSS, COLONY COLLAPSE DI...    390  "
      ]
     },
     "execution_count": 6,
     "metadata": {},
     "output_type": "execute_result"
    },
    {
     "data": {
      "application/javascript": [
       "\n",
       "            setTimeout(function() {\n",
       "                var nbb_cell_id = 6;\n",
       "                var nbb_unformatted_code = \"df_clean.head()\";\n",
       "                var nbb_formatted_code = \"df_clean.head()\";\n",
       "                var nbb_cells = Jupyter.notebook.get_cells();\n",
       "                for (var i = 0; i < nbb_cells.length; ++i) {\n",
       "                    if (nbb_cells[i].input_prompt_number == nbb_cell_id) {\n",
       "                        if (nbb_cells[i].get_text() == nbb_unformatted_code) {\n",
       "                             nbb_cells[i].set_text(nbb_formatted_code);\n",
       "                        }\n",
       "                        break;\n",
       "                    }\n",
       "                }\n",
       "            }, 500);\n",
       "            "
      ],
      "text/plain": [
       "<IPython.core.display.Javascript object>"
      ]
     },
     "metadata": {},
     "output_type": "display_data"
    }
   ],
   "source": [
    "df_clean.head()"
   ]
  },
  {
   "cell_type": "code",
   "execution_count": 7,
   "metadata": {},
   "outputs": [
    {
     "data": {
      "text/html": [
       "<div>\n",
       "<style scoped>\n",
       "    .dataframe tbody tr th:only-of-type {\n",
       "        vertical-align: middle;\n",
       "    }\n",
       "\n",
       "    .dataframe tbody tr th {\n",
       "        vertical-align: top;\n",
       "    }\n",
       "\n",
       "    .dataframe thead th {\n",
       "        text-align: right;\n",
       "    }\n",
       "</style>\n",
       "<table border=\"1\" class=\"dataframe\">\n",
       "  <thead>\n",
       "    <tr style=\"text-align: right;\">\n",
       "      <th></th>\n",
       "      <th>Program</th>\n",
       "      <th>Year</th>\n",
       "      <th>Period</th>\n",
       "      <th>Geo Level</th>\n",
       "      <th>State</th>\n",
       "      <th>State ANSI</th>\n",
       "      <th>Loss Reason</th>\n",
       "      <th>Colonies Lost</th>\n",
       "    </tr>\n",
       "  </thead>\n",
       "  <tbody>\n",
       "    <tr>\n",
       "      <th>0</th>\n",
       "      <td>SURVEY</td>\n",
       "      <td>2020</td>\n",
       "      <td>JAN THRU MAR</td>\n",
       "      <td>STATE</td>\n",
       "      <td>ALABAMA</td>\n",
       "      <td>1.0</td>\n",
       "      <td>HONEY, BEE COLONIES - LOSS, COLONY COLLAPSE DI...</td>\n",
       "      <td>70</td>\n",
       "    </tr>\n",
       "    <tr>\n",
       "      <th>1</th>\n",
       "      <td>SURVEY</td>\n",
       "      <td>2020</td>\n",
       "      <td>JAN THRU MAR</td>\n",
       "      <td>STATE</td>\n",
       "      <td>ALABAMA</td>\n",
       "      <td>1.0</td>\n",
       "      <td>HONEY, BEE COLONIES - LOSS, DEADOUT, MEASURED ...</td>\n",
       "      <td>410</td>\n",
       "    </tr>\n",
       "    <tr>\n",
       "      <th>2</th>\n",
       "      <td>SURVEY</td>\n",
       "      <td>2020</td>\n",
       "      <td>JAN THRU MAR</td>\n",
       "      <td>STATE</td>\n",
       "      <td>ARIZONA</td>\n",
       "      <td>4.0</td>\n",
       "      <td>HONEY, BEE COLONIES - LOSS, COLONY COLLAPSE DI...</td>\n",
       "      <td>4,300</td>\n",
       "    </tr>\n",
       "    <tr>\n",
       "      <th>3</th>\n",
       "      <td>SURVEY</td>\n",
       "      <td>2020</td>\n",
       "      <td>JAN THRU MAR</td>\n",
       "      <td>STATE</td>\n",
       "      <td>ARIZONA</td>\n",
       "      <td>4.0</td>\n",
       "      <td>HONEY, BEE COLONIES - LOSS, DEADOUT, MEASURED ...</td>\n",
       "      <td>6,500</td>\n",
       "    </tr>\n",
       "    <tr>\n",
       "      <th>4</th>\n",
       "      <td>SURVEY</td>\n",
       "      <td>2020</td>\n",
       "      <td>JAN THRU MAR</td>\n",
       "      <td>STATE</td>\n",
       "      <td>ARKANSAS</td>\n",
       "      <td>5.0</td>\n",
       "      <td>HONEY, BEE COLONIES - LOSS, COLONY COLLAPSE DI...</td>\n",
       "      <td>390</td>\n",
       "    </tr>\n",
       "  </tbody>\n",
       "</table>\n",
       "</div>"
      ],
      "text/plain": [
       "  Program  Year        Period Geo Level     State  State ANSI  \\\n",
       "0  SURVEY  2020  JAN THRU MAR     STATE   ALABAMA         1.0   \n",
       "1  SURVEY  2020  JAN THRU MAR     STATE   ALABAMA         1.0   \n",
       "2  SURVEY  2020  JAN THRU MAR     STATE   ARIZONA         4.0   \n",
       "3  SURVEY  2020  JAN THRU MAR     STATE   ARIZONA         4.0   \n",
       "4  SURVEY  2020  JAN THRU MAR     STATE  ARKANSAS         5.0   \n",
       "\n",
       "                                         Loss Reason Colonies Lost  \n",
       "0  HONEY, BEE COLONIES - LOSS, COLONY COLLAPSE DI...            70  \n",
       "1  HONEY, BEE COLONIES - LOSS, DEADOUT, MEASURED ...           410  \n",
       "2  HONEY, BEE COLONIES - LOSS, COLONY COLLAPSE DI...         4,300  \n",
       "3  HONEY, BEE COLONIES - LOSS, DEADOUT, MEASURED ...         6,500  \n",
       "4  HONEY, BEE COLONIES - LOSS, COLONY COLLAPSE DI...           390  "
      ]
     },
     "execution_count": 7,
     "metadata": {},
     "output_type": "execute_result"
    },
    {
     "data": {
      "application/javascript": [
       "\n",
       "            setTimeout(function() {\n",
       "                var nbb_cell_id = 7;\n",
       "                var nbb_unformatted_code = \"df_clean = df_clean.rename(\\n    columns={\\\"Data Item\\\": \\\"Loss Reason\\\", \\\"Value\\\": \\\"Colonies Lost\\\"}\\n)\\ndf_clean.head()\";\n",
       "                var nbb_formatted_code = \"df_clean = df_clean.rename(\\n    columns={\\\"Data Item\\\": \\\"Loss Reason\\\", \\\"Value\\\": \\\"Colonies Lost\\\"}\\n)\\ndf_clean.head()\";\n",
       "                var nbb_cells = Jupyter.notebook.get_cells();\n",
       "                for (var i = 0; i < nbb_cells.length; ++i) {\n",
       "                    if (nbb_cells[i].input_prompt_number == nbb_cell_id) {\n",
       "                        if (nbb_cells[i].get_text() == nbb_unformatted_code) {\n",
       "                             nbb_cells[i].set_text(nbb_formatted_code);\n",
       "                        }\n",
       "                        break;\n",
       "                    }\n",
       "                }\n",
       "            }, 500);\n",
       "            "
      ],
      "text/plain": [
       "<IPython.core.display.Javascript object>"
      ]
     },
     "metadata": {},
     "output_type": "display_data"
    }
   ],
   "source": [
    "df_clean = df_clean.rename(\n",
    "    columns={\"Data Item\": \"Loss Reason\", \"Value\": \"Colonies Lost\"}\n",
    ")\n",
    "df_clean.head()"
   ]
  },
  {
   "cell_type": "code",
   "execution_count": 8,
   "metadata": {},
   "outputs": [
    {
     "data": {
      "text/html": [
       "<div>\n",
       "<style scoped>\n",
       "    .dataframe tbody tr th:only-of-type {\n",
       "        vertical-align: middle;\n",
       "    }\n",
       "\n",
       "    .dataframe tbody tr th {\n",
       "        vertical-align: top;\n",
       "    }\n",
       "\n",
       "    .dataframe thead th {\n",
       "        text-align: right;\n",
       "    }\n",
       "</style>\n",
       "<table border=\"1\" class=\"dataframe\">\n",
       "  <thead>\n",
       "    <tr style=\"text-align: right;\">\n",
       "      <th></th>\n",
       "      <th>Program</th>\n",
       "      <th>Year</th>\n",
       "      <th>Period</th>\n",
       "      <th>Geo Level</th>\n",
       "      <th>State</th>\n",
       "      <th>State ANSI</th>\n",
       "      <th>Loss Reason</th>\n",
       "      <th>Colonies Lost</th>\n",
       "    </tr>\n",
       "  </thead>\n",
       "  <tbody>\n",
       "    <tr>\n",
       "      <th>0</th>\n",
       "      <td>SURVEY</td>\n",
       "      <td>2020</td>\n",
       "      <td>JAN THRU MAR</td>\n",
       "      <td>STATE</td>\n",
       "      <td>ALABAMA</td>\n",
       "      <td>1.0</td>\n",
       "      <td>CCD</td>\n",
       "      <td>70</td>\n",
       "    </tr>\n",
       "    <tr>\n",
       "      <th>1</th>\n",
       "      <td>SURVEY</td>\n",
       "      <td>2020</td>\n",
       "      <td>JAN THRU MAR</td>\n",
       "      <td>STATE</td>\n",
       "      <td>ALABAMA</td>\n",
       "      <td>1.0</td>\n",
       "      <td>DEADOUT</td>\n",
       "      <td>410</td>\n",
       "    </tr>\n",
       "    <tr>\n",
       "      <th>2</th>\n",
       "      <td>SURVEY</td>\n",
       "      <td>2020</td>\n",
       "      <td>JAN THRU MAR</td>\n",
       "      <td>STATE</td>\n",
       "      <td>ARIZONA</td>\n",
       "      <td>4.0</td>\n",
       "      <td>CCD</td>\n",
       "      <td>4,300</td>\n",
       "    </tr>\n",
       "    <tr>\n",
       "      <th>3</th>\n",
       "      <td>SURVEY</td>\n",
       "      <td>2020</td>\n",
       "      <td>JAN THRU MAR</td>\n",
       "      <td>STATE</td>\n",
       "      <td>ARIZONA</td>\n",
       "      <td>4.0</td>\n",
       "      <td>DEADOUT</td>\n",
       "      <td>6,500</td>\n",
       "    </tr>\n",
       "    <tr>\n",
       "      <th>4</th>\n",
       "      <td>SURVEY</td>\n",
       "      <td>2020</td>\n",
       "      <td>JAN THRU MAR</td>\n",
       "      <td>STATE</td>\n",
       "      <td>ARKANSAS</td>\n",
       "      <td>5.0</td>\n",
       "      <td>CCD</td>\n",
       "      <td>390</td>\n",
       "    </tr>\n",
       "  </tbody>\n",
       "</table>\n",
       "</div>"
      ],
      "text/plain": [
       "  Program  Year        Period Geo Level     State  State ANSI Loss Reason  \\\n",
       "0  SURVEY  2020  JAN THRU MAR     STATE   ALABAMA         1.0         CCD   \n",
       "1  SURVEY  2020  JAN THRU MAR     STATE   ALABAMA         1.0     DEADOUT   \n",
       "2  SURVEY  2020  JAN THRU MAR     STATE   ARIZONA         4.0         CCD   \n",
       "3  SURVEY  2020  JAN THRU MAR     STATE   ARIZONA         4.0     DEADOUT   \n",
       "4  SURVEY  2020  JAN THRU MAR     STATE  ARKANSAS         5.0         CCD   \n",
       "\n",
       "  Colonies Lost  \n",
       "0            70  \n",
       "1           410  \n",
       "2         4,300  \n",
       "3         6,500  \n",
       "4           390  "
      ]
     },
     "execution_count": 8,
     "metadata": {},
     "output_type": "execute_result"
    },
    {
     "data": {
      "application/javascript": [
       "\n",
       "            setTimeout(function() {\n",
       "                var nbb_cell_id = 8;\n",
       "                var nbb_unformatted_code = \"# df[\\\"prod_type\\\"] = df[\\\"prod_type\\\"].replace({\\\"respon\\\": \\\"responsive\\\", \\\"r\\\": \\\"responsive\\\"})\\ndf_clean[\\\"Loss Reason\\\"] = df_clean[\\\"Loss Reason\\\"].replace(\\n    {\\n        \\\"HONEY, BEE COLONIES - LOSS, COLONY COLLAPSE DISORDER, MEASURED IN COLONIES\\\": \\\"CCD\\\",\\n        \\\"HONEY, BEE COLONIES - LOSS, DEADOUT, MEASURED IN COLONIES\\\": \\\"DEADOUT\\\",\\n    }\\n)\\ndf_clean.head()\";\n",
       "                var nbb_formatted_code = \"# df[\\\"prod_type\\\"] = df[\\\"prod_type\\\"].replace({\\\"respon\\\": \\\"responsive\\\", \\\"r\\\": \\\"responsive\\\"})\\ndf_clean[\\\"Loss Reason\\\"] = df_clean[\\\"Loss Reason\\\"].replace(\\n    {\\n        \\\"HONEY, BEE COLONIES - LOSS, COLONY COLLAPSE DISORDER, MEASURED IN COLONIES\\\": \\\"CCD\\\",\\n        \\\"HONEY, BEE COLONIES - LOSS, DEADOUT, MEASURED IN COLONIES\\\": \\\"DEADOUT\\\",\\n    }\\n)\\ndf_clean.head()\";\n",
       "                var nbb_cells = Jupyter.notebook.get_cells();\n",
       "                for (var i = 0; i < nbb_cells.length; ++i) {\n",
       "                    if (nbb_cells[i].input_prompt_number == nbb_cell_id) {\n",
       "                        if (nbb_cells[i].get_text() == nbb_unformatted_code) {\n",
       "                             nbb_cells[i].set_text(nbb_formatted_code);\n",
       "                        }\n",
       "                        break;\n",
       "                    }\n",
       "                }\n",
       "            }, 500);\n",
       "            "
      ],
      "text/plain": [
       "<IPython.core.display.Javascript object>"
      ]
     },
     "metadata": {},
     "output_type": "display_data"
    }
   ],
   "source": [
    "# df[\"prod_type\"] = df[\"prod_type\"].replace({\"respon\": \"responsive\", \"r\": \"responsive\"})\n",
    "df_clean[\"Loss Reason\"] = df_clean[\"Loss Reason\"].replace(\n",
    "    {\n",
    "        \"HONEY, BEE COLONIES - LOSS, COLONY COLLAPSE DISORDER, MEASURED IN COLONIES\": \"CCD\",\n",
    "        \"HONEY, BEE COLONIES - LOSS, DEADOUT, MEASURED IN COLONIES\": \"DEADOUT\",\n",
    "    }\n",
    ")\n",
    "df_clean.head()"
   ]
  },
  {
   "cell_type": "code",
   "execution_count": 11,
   "metadata": {},
   "outputs": [
    {
     "data": {
      "text/html": [
       "<div>\n",
       "<style scoped>\n",
       "    .dataframe tbody tr th:only-of-type {\n",
       "        vertical-align: middle;\n",
       "    }\n",
       "\n",
       "    .dataframe tbody tr th {\n",
       "        vertical-align: top;\n",
       "    }\n",
       "\n",
       "    .dataframe thead th {\n",
       "        text-align: right;\n",
       "    }\n",
       "</style>\n",
       "<table border=\"1\" class=\"dataframe\">\n",
       "  <thead>\n",
       "    <tr style=\"text-align: right;\">\n",
       "      <th></th>\n",
       "      <th>Program</th>\n",
       "      <th>Year</th>\n",
       "      <th>Period</th>\n",
       "      <th>Geo Level</th>\n",
       "      <th>State</th>\n",
       "      <th>State ANSI</th>\n",
       "      <th>Loss Reason</th>\n",
       "      <th>Colonies Lost</th>\n",
       "    </tr>\n",
       "  </thead>\n",
       "  <tbody>\n",
       "    <tr>\n",
       "      <th>0</th>\n",
       "      <td>SURVEY</td>\n",
       "      <td>2020</td>\n",
       "      <td>JAN THRU MAR</td>\n",
       "      <td>STATE</td>\n",
       "      <td>ALABAMA</td>\n",
       "      <td>1.0</td>\n",
       "      <td>CCD</td>\n",
       "      <td>70</td>\n",
       "    </tr>\n",
       "    <tr>\n",
       "      <th>1</th>\n",
       "      <td>SURVEY</td>\n",
       "      <td>2020</td>\n",
       "      <td>JAN THRU MAR</td>\n",
       "      <td>STATE</td>\n",
       "      <td>ALABAMA</td>\n",
       "      <td>1.0</td>\n",
       "      <td>DEADOUT</td>\n",
       "      <td>410</td>\n",
       "    </tr>\n",
       "    <tr>\n",
       "      <th>2</th>\n",
       "      <td>SURVEY</td>\n",
       "      <td>2020</td>\n",
       "      <td>JAN THRU MAR</td>\n",
       "      <td>STATE</td>\n",
       "      <td>ARIZONA</td>\n",
       "      <td>4.0</td>\n",
       "      <td>CCD</td>\n",
       "      <td>4300</td>\n",
       "    </tr>\n",
       "    <tr>\n",
       "      <th>3</th>\n",
       "      <td>SURVEY</td>\n",
       "      <td>2020</td>\n",
       "      <td>JAN THRU MAR</td>\n",
       "      <td>STATE</td>\n",
       "      <td>ARIZONA</td>\n",
       "      <td>4.0</td>\n",
       "      <td>DEADOUT</td>\n",
       "      <td>6500</td>\n",
       "    </tr>\n",
       "    <tr>\n",
       "      <th>4</th>\n",
       "      <td>SURVEY</td>\n",
       "      <td>2020</td>\n",
       "      <td>JAN THRU MAR</td>\n",
       "      <td>STATE</td>\n",
       "      <td>ARKANSAS</td>\n",
       "      <td>5.0</td>\n",
       "      <td>CCD</td>\n",
       "      <td>390</td>\n",
       "    </tr>\n",
       "  </tbody>\n",
       "</table>\n",
       "</div>"
      ],
      "text/plain": [
       "  Program  Year        Period Geo Level     State  State ANSI Loss Reason  \\\n",
       "0  SURVEY  2020  JAN THRU MAR     STATE   ALABAMA         1.0         CCD   \n",
       "1  SURVEY  2020  JAN THRU MAR     STATE   ALABAMA         1.0     DEADOUT   \n",
       "2  SURVEY  2020  JAN THRU MAR     STATE   ARIZONA         4.0         CCD   \n",
       "3  SURVEY  2020  JAN THRU MAR     STATE   ARIZONA         4.0     DEADOUT   \n",
       "4  SURVEY  2020  JAN THRU MAR     STATE  ARKANSAS         5.0         CCD   \n",
       "\n",
       "  Colonies Lost  \n",
       "0            70  \n",
       "1           410  \n",
       "2          4300  \n",
       "3          6500  \n",
       "4           390  "
      ]
     },
     "execution_count": 11,
     "metadata": {},
     "output_type": "execute_result"
    },
    {
     "data": {
      "application/javascript": [
       "\n",
       "            setTimeout(function() {\n",
       "                var nbb_cell_id = 11;\n",
       "                var nbb_unformatted_code = \"df_clean[\\\"Colonies Lost\\\"] = df_clean[\\\"Colonies Lost\\\"].str.replace(\\\",\\\", \\\"\\\")\\ndf_clean.head()\";\n",
       "                var nbb_formatted_code = \"df_clean[\\\"Colonies Lost\\\"] = df_clean[\\\"Colonies Lost\\\"].str.replace(\\\",\\\", \\\"\\\")\\ndf_clean.head()\";\n",
       "                var nbb_cells = Jupyter.notebook.get_cells();\n",
       "                for (var i = 0; i < nbb_cells.length; ++i) {\n",
       "                    if (nbb_cells[i].input_prompt_number == nbb_cell_id) {\n",
       "                        if (nbb_cells[i].get_text() == nbb_unformatted_code) {\n",
       "                             nbb_cells[i].set_text(nbb_formatted_code);\n",
       "                        }\n",
       "                        break;\n",
       "                    }\n",
       "                }\n",
       "            }, 500);\n",
       "            "
      ],
      "text/plain": [
       "<IPython.core.display.Javascript object>"
      ]
     },
     "metadata": {},
     "output_type": "display_data"
    }
   ],
   "source": [
    "df_clean[\"Colonies Lost\"] = df_clean[\"Colonies Lost\"].str.replace(\",\", \"\")\n",
    "df_clean.head()"
   ]
  },
  {
   "cell_type": "code",
   "execution_count": 12,
   "metadata": {},
   "outputs": [
    {
     "name": "stdout",
     "output_type": "stream",
     "text": [
      "<class 'pandas.core.frame.DataFrame'>\n",
      "RangeIndex: 458 entries, 0 to 457\n",
      "Data columns (total 8 columns):\n",
      " #   Column         Non-Null Count  Dtype  \n",
      "---  ------         --------------  -----  \n",
      " 0   Program        458 non-null    object \n",
      " 1   Year           458 non-null    int64  \n",
      " 2   Period         458 non-null    object \n",
      " 3   Geo Level      458 non-null    object \n",
      " 4   State          458 non-null    object \n",
      " 5   State ANSI     450 non-null    float64\n",
      " 6   Loss Reason    458 non-null    object \n",
      " 7   Colonies Lost  458 non-null    object \n",
      "dtypes: float64(1), int64(1), object(6)\n",
      "memory usage: 28.8+ KB\n"
     ]
    },
    {
     "data": {
      "application/javascript": [
       "\n",
       "            setTimeout(function() {\n",
       "                var nbb_cell_id = 12;\n",
       "                var nbb_unformatted_code = \"df_clean.info()\";\n",
       "                var nbb_formatted_code = \"df_clean.info()\";\n",
       "                var nbb_cells = Jupyter.notebook.get_cells();\n",
       "                for (var i = 0; i < nbb_cells.length; ++i) {\n",
       "                    if (nbb_cells[i].input_prompt_number == nbb_cell_id) {\n",
       "                        if (nbb_cells[i].get_text() == nbb_unformatted_code) {\n",
       "                             nbb_cells[i].set_text(nbb_formatted_code);\n",
       "                        }\n",
       "                        break;\n",
       "                    }\n",
       "                }\n",
       "            }, 500);\n",
       "            "
      ],
      "text/plain": [
       "<IPython.core.display.Javascript object>"
      ]
     },
     "metadata": {},
     "output_type": "display_data"
    }
   ],
   "source": [
    "df_clean.info()"
   ]
  },
  {
   "cell_type": "code",
   "execution_count": 13,
   "metadata": {},
   "outputs": [
    {
     "data": {
      "text/html": [
       "<div>\n",
       "<style scoped>\n",
       "    .dataframe tbody tr th:only-of-type {\n",
       "        vertical-align: middle;\n",
       "    }\n",
       "\n",
       "    .dataframe tbody tr th {\n",
       "        vertical-align: top;\n",
       "    }\n",
       "\n",
       "    .dataframe thead th {\n",
       "        text-align: right;\n",
       "    }\n",
       "</style>\n",
       "<table border=\"1\" class=\"dataframe\">\n",
       "  <thead>\n",
       "    <tr style=\"text-align: right;\">\n",
       "      <th></th>\n",
       "      <th>Year</th>\n",
       "      <th>State ANSI</th>\n",
       "    </tr>\n",
       "  </thead>\n",
       "  <tbody>\n",
       "    <tr>\n",
       "      <th>count</th>\n",
       "      <td>458.000000</td>\n",
       "      <td>450.000000</td>\n",
       "    </tr>\n",
       "    <tr>\n",
       "      <th>mean</th>\n",
       "      <td>2019.397380</td>\n",
       "      <td>29.888889</td>\n",
       "    </tr>\n",
       "    <tr>\n",
       "      <th>std</th>\n",
       "      <td>0.489891</td>\n",
       "      <td>15.533887</td>\n",
       "    </tr>\n",
       "    <tr>\n",
       "      <th>min</th>\n",
       "      <td>2019.000000</td>\n",
       "      <td>1.000000</td>\n",
       "    </tr>\n",
       "    <tr>\n",
       "      <th>25%</th>\n",
       "      <td>2019.000000</td>\n",
       "      <td>18.000000</td>\n",
       "    </tr>\n",
       "    <tr>\n",
       "      <th>50%</th>\n",
       "      <td>2019.000000</td>\n",
       "      <td>29.000000</td>\n",
       "    </tr>\n",
       "    <tr>\n",
       "      <th>75%</th>\n",
       "      <td>2020.000000</td>\n",
       "      <td>42.000000</td>\n",
       "    </tr>\n",
       "    <tr>\n",
       "      <th>max</th>\n",
       "      <td>2020.000000</td>\n",
       "      <td>56.000000</td>\n",
       "    </tr>\n",
       "  </tbody>\n",
       "</table>\n",
       "</div>"
      ],
      "text/plain": [
       "              Year  State ANSI\n",
       "count   458.000000  450.000000\n",
       "mean   2019.397380   29.888889\n",
       "std       0.489891   15.533887\n",
       "min    2019.000000    1.000000\n",
       "25%    2019.000000   18.000000\n",
       "50%    2019.000000   29.000000\n",
       "75%    2020.000000   42.000000\n",
       "max    2020.000000   56.000000"
      ]
     },
     "execution_count": 13,
     "metadata": {},
     "output_type": "execute_result"
    },
    {
     "data": {
      "application/javascript": [
       "\n",
       "            setTimeout(function() {\n",
       "                var nbb_cell_id = 13;\n",
       "                var nbb_unformatted_code = \"df_clean.describe()\";\n",
       "                var nbb_formatted_code = \"df_clean.describe()\";\n",
       "                var nbb_cells = Jupyter.notebook.get_cells();\n",
       "                for (var i = 0; i < nbb_cells.length; ++i) {\n",
       "                    if (nbb_cells[i].input_prompt_number == nbb_cell_id) {\n",
       "                        if (nbb_cells[i].get_text() == nbb_unformatted_code) {\n",
       "                             nbb_cells[i].set_text(nbb_formatted_code);\n",
       "                        }\n",
       "                        break;\n",
       "                    }\n",
       "                }\n",
       "            }, 500);\n",
       "            "
      ],
      "text/plain": [
       "<IPython.core.display.Javascript object>"
      ]
     },
     "metadata": {},
     "output_type": "display_data"
    }
   ],
   "source": [
    "df_clean.describe()"
   ]
  },
  {
   "cell_type": "code",
   "execution_count": 14,
   "metadata": {},
   "outputs": [
    {
     "name": "stdout",
     "output_type": "stream",
     "text": [
      "<class 'pandas.core.frame.DataFrame'>\n",
      "RangeIndex: 458 entries, 0 to 457\n",
      "Data columns (total 8 columns):\n",
      " #   Column         Non-Null Count  Dtype  \n",
      "---  ------         --------------  -----  \n",
      " 0   Program        458 non-null    object \n",
      " 1   Year           458 non-null    int64  \n",
      " 2   Period         458 non-null    object \n",
      " 3   Geo Level      458 non-null    object \n",
      " 4   State          458 non-null    object \n",
      " 5   State ANSI     450 non-null    float64\n",
      " 6   Loss Reason    458 non-null    object \n",
      " 7   Colonies Lost  458 non-null    object \n",
      "dtypes: float64(1), int64(1), object(6)\n",
      "memory usage: 28.8+ KB\n"
     ]
    },
    {
     "data": {
      "application/javascript": [
       "\n",
       "            setTimeout(function() {\n",
       "                var nbb_cell_id = 14;\n",
       "                var nbb_unformatted_code = \"df_clean.info()\";\n",
       "                var nbb_formatted_code = \"df_clean.info()\";\n",
       "                var nbb_cells = Jupyter.notebook.get_cells();\n",
       "                for (var i = 0; i < nbb_cells.length; ++i) {\n",
       "                    if (nbb_cells[i].input_prompt_number == nbb_cell_id) {\n",
       "                        if (nbb_cells[i].get_text() == nbb_unformatted_code) {\n",
       "                             nbb_cells[i].set_text(nbb_formatted_code);\n",
       "                        }\n",
       "                        break;\n",
       "                    }\n",
       "                }\n",
       "            }, 500);\n",
       "            "
      ],
      "text/plain": [
       "<IPython.core.display.Javascript object>"
      ]
     },
     "metadata": {},
     "output_type": "display_data"
    }
   ],
   "source": [
    "df_clean.info()"
   ]
  },
  {
   "cell_type": "code",
   "execution_count": 15,
   "metadata": {},
   "outputs": [
    {
     "data": {
      "application/javascript": [
       "\n",
       "            setTimeout(function() {\n",
       "                var nbb_cell_id = 15;\n",
       "                var nbb_unformatted_code = \"df_clean[\\\"Colonies Lost\\\"] = pd.to_numeric(df_clean[\\\"Colonies Lost\\\"], errors=\\\"coerce\\\")\";\n",
       "                var nbb_formatted_code = \"df_clean[\\\"Colonies Lost\\\"] = pd.to_numeric(df_clean[\\\"Colonies Lost\\\"], errors=\\\"coerce\\\")\";\n",
       "                var nbb_cells = Jupyter.notebook.get_cells();\n",
       "                for (var i = 0; i < nbb_cells.length; ++i) {\n",
       "                    if (nbb_cells[i].input_prompt_number == nbb_cell_id) {\n",
       "                        if (nbb_cells[i].get_text() == nbb_unformatted_code) {\n",
       "                             nbb_cells[i].set_text(nbb_formatted_code);\n",
       "                        }\n",
       "                        break;\n",
       "                    }\n",
       "                }\n",
       "            }, 500);\n",
       "            "
      ],
      "text/plain": [
       "<IPython.core.display.Javascript object>"
      ]
     },
     "metadata": {},
     "output_type": "display_data"
    }
   ],
   "source": [
    "df_clean[\"Colonies Lost\"] = pd.to_numeric(df_clean[\"Colonies Lost\"], errors=\"coerce\")"
   ]
  },
  {
   "cell_type": "code",
   "execution_count": 16,
   "metadata": {},
   "outputs": [
    {
     "name": "stdout",
     "output_type": "stream",
     "text": [
      "<class 'pandas.core.frame.DataFrame'>\n",
      "RangeIndex: 458 entries, 0 to 457\n",
      "Data columns (total 8 columns):\n",
      " #   Column         Non-Null Count  Dtype  \n",
      "---  ------         --------------  -----  \n",
      " 0   Program        458 non-null    object \n",
      " 1   Year           458 non-null    int64  \n",
      " 2   Period         458 non-null    object \n",
      " 3   Geo Level      458 non-null    object \n",
      " 4   State          458 non-null    object \n",
      " 5   State ANSI     450 non-null    float64\n",
      " 6   Loss Reason    458 non-null    object \n",
      " 7   Colonies Lost  458 non-null    int64  \n",
      "dtypes: float64(1), int64(2), object(5)\n",
      "memory usage: 28.8+ KB\n"
     ]
    },
    {
     "data": {
      "application/javascript": [
       "\n",
       "            setTimeout(function() {\n",
       "                var nbb_cell_id = 16;\n",
       "                var nbb_unformatted_code = \"df_clean.info()\";\n",
       "                var nbb_formatted_code = \"df_clean.info()\";\n",
       "                var nbb_cells = Jupyter.notebook.get_cells();\n",
       "                for (var i = 0; i < nbb_cells.length; ++i) {\n",
       "                    if (nbb_cells[i].input_prompt_number == nbb_cell_id) {\n",
       "                        if (nbb_cells[i].get_text() == nbb_unformatted_code) {\n",
       "                             nbb_cells[i].set_text(nbb_formatted_code);\n",
       "                        }\n",
       "                        break;\n",
       "                    }\n",
       "                }\n",
       "            }, 500);\n",
       "            "
      ],
      "text/plain": [
       "<IPython.core.display.Javascript object>"
      ]
     },
     "metadata": {},
     "output_type": "display_data"
    }
   ],
   "source": [
    "df_clean.info()"
   ]
  },
  {
   "cell_type": "code",
   "execution_count": 17,
   "metadata": {},
   "outputs": [
    {
     "data": {
      "text/plain": [
       "DEADOUT    230\n",
       "CCD        228\n",
       "Name: Loss Reason, dtype: int64"
      ]
     },
     "execution_count": 17,
     "metadata": {},
     "output_type": "execute_result"
    },
    {
     "data": {
      "application/javascript": [
       "\n",
       "            setTimeout(function() {\n",
       "                var nbb_cell_id = 17;\n",
       "                var nbb_unformatted_code = \"df_clean[\\\"Loss Reason\\\"].value_counts()\";\n",
       "                var nbb_formatted_code = \"df_clean[\\\"Loss Reason\\\"].value_counts()\";\n",
       "                var nbb_cells = Jupyter.notebook.get_cells();\n",
       "                for (var i = 0; i < nbb_cells.length; ++i) {\n",
       "                    if (nbb_cells[i].input_prompt_number == nbb_cell_id) {\n",
       "                        if (nbb_cells[i].get_text() == nbb_unformatted_code) {\n",
       "                             nbb_cells[i].set_text(nbb_formatted_code);\n",
       "                        }\n",
       "                        break;\n",
       "                    }\n",
       "                }\n",
       "            }, 500);\n",
       "            "
      ],
      "text/plain": [
       "<IPython.core.display.Javascript object>"
      ]
     },
     "metadata": {},
     "output_type": "display_data"
    }
   ],
   "source": [
    "df_clean[\"Loss Reason\"].value_counts()"
   ]
  },
  {
   "cell_type": "code",
   "execution_count": 18,
   "metadata": {},
   "outputs": [
    {
     "name": "stdout",
     "output_type": "stream",
     "text": [
      "<class 'pandas.core.frame.DataFrame'>\n",
      "RangeIndex: 458 entries, 0 to 457\n",
      "Data columns (total 8 columns):\n",
      " #   Column         Non-Null Count  Dtype  \n",
      "---  ------         --------------  -----  \n",
      " 0   Program        458 non-null    object \n",
      " 1   Year           458 non-null    int64  \n",
      " 2   Period         458 non-null    object \n",
      " 3   Geo Level      458 non-null    object \n",
      " 4   State          458 non-null    object \n",
      " 5   State ANSI     450 non-null    float64\n",
      " 6   Loss Reason    458 non-null    object \n",
      " 7   Colonies Lost  458 non-null    int64  \n",
      "dtypes: float64(1), int64(2), object(5)\n",
      "memory usage: 28.8+ KB\n"
     ]
    },
    {
     "data": {
      "application/javascript": [
       "\n",
       "            setTimeout(function() {\n",
       "                var nbb_cell_id = 18;\n",
       "                var nbb_unformatted_code = \"df_clean.info()\";\n",
       "                var nbb_formatted_code = \"df_clean.info()\";\n",
       "                var nbb_cells = Jupyter.notebook.get_cells();\n",
       "                for (var i = 0; i < nbb_cells.length; ++i) {\n",
       "                    if (nbb_cells[i].input_prompt_number == nbb_cell_id) {\n",
       "                        if (nbb_cells[i].get_text() == nbb_unformatted_code) {\n",
       "                             nbb_cells[i].set_text(nbb_formatted_code);\n",
       "                        }\n",
       "                        break;\n",
       "                    }\n",
       "                }\n",
       "            }, 500);\n",
       "            "
      ],
      "text/plain": [
       "<IPython.core.display.Javascript object>"
      ]
     },
     "metadata": {},
     "output_type": "display_data"
    }
   ],
   "source": [
    "df_clean.info()"
   ]
  },
  {
   "cell_type": "code",
   "execution_count": 19,
   "metadata": {},
   "outputs": [
    {
     "data": {
      "text/html": [
       "<div>\n",
       "<style scoped>\n",
       "    .dataframe tbody tr th:only-of-type {\n",
       "        vertical-align: middle;\n",
       "    }\n",
       "\n",
       "    .dataframe tbody tr th {\n",
       "        vertical-align: top;\n",
       "    }\n",
       "\n",
       "    .dataframe thead th {\n",
       "        text-align: right;\n",
       "    }\n",
       "</style>\n",
       "<table border=\"1\" class=\"dataframe\">\n",
       "  <thead>\n",
       "    <tr style=\"text-align: right;\">\n",
       "      <th></th>\n",
       "      <th>Year</th>\n",
       "      <th>State ANSI</th>\n",
       "      <th>Colonies Lost</th>\n",
       "    </tr>\n",
       "    <tr>\n",
       "      <th>Loss Reason</th>\n",
       "      <th></th>\n",
       "      <th></th>\n",
       "      <th></th>\n",
       "    </tr>\n",
       "  </thead>\n",
       "  <tbody>\n",
       "    <tr>\n",
       "      <th>CCD</th>\n",
       "      <td>2019.394737</td>\n",
       "      <td>29.888889</td>\n",
       "      <td>1631.359649</td>\n",
       "    </tr>\n",
       "    <tr>\n",
       "      <th>DEADOUT</th>\n",
       "      <td>2019.400000</td>\n",
       "      <td>29.888889</td>\n",
       "      <td>8235.260870</td>\n",
       "    </tr>\n",
       "  </tbody>\n",
       "</table>\n",
       "</div>"
      ],
      "text/plain": [
       "                    Year  State ANSI  Colonies Lost\n",
       "Loss Reason                                        \n",
       "CCD          2019.394737   29.888889    1631.359649\n",
       "DEADOUT      2019.400000   29.888889    8235.260870"
      ]
     },
     "execution_count": 19,
     "metadata": {},
     "output_type": "execute_result"
    },
    {
     "data": {
      "application/javascript": [
       "\n",
       "            setTimeout(function() {\n",
       "                var nbb_cell_id = 19;\n",
       "                var nbb_unformatted_code = \"df_clean.groupby(\\\"Loss Reason\\\").mean()\";\n",
       "                var nbb_formatted_code = \"df_clean.groupby(\\\"Loss Reason\\\").mean()\";\n",
       "                var nbb_cells = Jupyter.notebook.get_cells();\n",
       "                for (var i = 0; i < nbb_cells.length; ++i) {\n",
       "                    if (nbb_cells[i].input_prompt_number == nbb_cell_id) {\n",
       "                        if (nbb_cells[i].get_text() == nbb_unformatted_code) {\n",
       "                             nbb_cells[i].set_text(nbb_formatted_code);\n",
       "                        }\n",
       "                        break;\n",
       "                    }\n",
       "                }\n",
       "            }, 500);\n",
       "            "
      ],
      "text/plain": [
       "<IPython.core.display.Javascript object>"
      ]
     },
     "metadata": {},
     "output_type": "display_data"
    }
   ],
   "source": [
    "df_clean.groupby(\"Loss Reason\").mean()"
   ]
  },
  {
   "cell_type": "code",
   "execution_count": 20,
   "metadata": {},
   "outputs": [
    {
     "data": {
      "text/html": [
       "<div>\n",
       "<style scoped>\n",
       "    .dataframe tbody tr th:only-of-type {\n",
       "        vertical-align: middle;\n",
       "    }\n",
       "\n",
       "    .dataframe tbody tr th {\n",
       "        vertical-align: top;\n",
       "    }\n",
       "\n",
       "    .dataframe thead th {\n",
       "        text-align: right;\n",
       "    }\n",
       "</style>\n",
       "<table border=\"1\" class=\"dataframe\">\n",
       "  <thead>\n",
       "    <tr style=\"text-align: right;\">\n",
       "      <th></th>\n",
       "      <th>Year</th>\n",
       "      <th>State ANSI</th>\n",
       "      <th>Colonies Lost</th>\n",
       "    </tr>\n",
       "    <tr>\n",
       "      <th>Loss Reason</th>\n",
       "      <th></th>\n",
       "      <th></th>\n",
       "      <th></th>\n",
       "    </tr>\n",
       "  </thead>\n",
       "  <tbody>\n",
       "    <tr>\n",
       "      <th>CCD</th>\n",
       "      <td>2019</td>\n",
       "      <td>29.0</td>\n",
       "      <td>425</td>\n",
       "    </tr>\n",
       "    <tr>\n",
       "      <th>DEADOUT</th>\n",
       "      <td>2019</td>\n",
       "      <td>29.0</td>\n",
       "      <td>1700</td>\n",
       "    </tr>\n",
       "  </tbody>\n",
       "</table>\n",
       "</div>"
      ],
      "text/plain": [
       "             Year  State ANSI  Colonies Lost\n",
       "Loss Reason                                 \n",
       "CCD          2019        29.0            425\n",
       "DEADOUT      2019        29.0           1700"
      ]
     },
     "execution_count": 20,
     "metadata": {},
     "output_type": "execute_result"
    },
    {
     "data": {
      "application/javascript": [
       "\n",
       "            setTimeout(function() {\n",
       "                var nbb_cell_id = 20;\n",
       "                var nbb_unformatted_code = \"df_clean.groupby(\\\"Loss Reason\\\").median()\";\n",
       "                var nbb_formatted_code = \"df_clean.groupby(\\\"Loss Reason\\\").median()\";\n",
       "                var nbb_cells = Jupyter.notebook.get_cells();\n",
       "                for (var i = 0; i < nbb_cells.length; ++i) {\n",
       "                    if (nbb_cells[i].input_prompt_number == nbb_cell_id) {\n",
       "                        if (nbb_cells[i].get_text() == nbb_unformatted_code) {\n",
       "                             nbb_cells[i].set_text(nbb_formatted_code);\n",
       "                        }\n",
       "                        break;\n",
       "                    }\n",
       "                }\n",
       "            }, 500);\n",
       "            "
      ],
      "text/plain": [
       "<IPython.core.display.Javascript object>"
      ]
     },
     "metadata": {},
     "output_type": "display_data"
    }
   ],
   "source": [
    "df_clean.groupby(\"Loss Reason\").median()"
   ]
  },
  {
   "cell_type": "code",
   "execution_count": 21,
   "metadata": {},
   "outputs": [
    {
     "data": {
      "image/png": "[encoded data removed]",
      "text/plain": [
       "<Figure size 432x288 with 1 Axes>"
      ]
     },
     "metadata": {
      "needs_background": "light"
     },
     "output_type": "display_data"
    },
    {
     "data": {
      "application/javascript": [
       "\n",
       "            setTimeout(function() {\n",
       "                var nbb_cell_id = 21;\n",
       "                var nbb_unformatted_code = \"sns.boxplot(x=\\\"Loss Reason\\\", y=\\\"Colonies Lost\\\", data=df_clean)\\nplt.show()\";\n",
       "                var nbb_formatted_code = \"sns.boxplot(x=\\\"Loss Reason\\\", y=\\\"Colonies Lost\\\", data=df_clean)\\nplt.show()\";\n",
       "                var nbb_cells = Jupyter.notebook.get_cells();\n",
       "                for (var i = 0; i < nbb_cells.length; ++i) {\n",
       "                    if (nbb_cells[i].input_prompt_number == nbb_cell_id) {\n",
       "                        if (nbb_cells[i].get_text() == nbb_unformatted_code) {\n",
       "                             nbb_cells[i].set_text(nbb_formatted_code);\n",
       "                        }\n",
       "                        break;\n",
       "                    }\n",
       "                }\n",
       "            }, 500);\n",
       "            "
      ],
      "text/plain": [
       "<IPython.core.display.Javascript object>"
      ]
     },
     "metadata": {},
     "output_type": "display_data"
    }
   ],
   "source": [
    "sns.boxplot(x=\"Loss Reason\", y=\"Colonies Lost\", data=df_clean)\n",
    "plt.show()"
   ]
  },
  {
   "cell_type": "code",
   "execution_count": 22,
   "metadata": {},
   "outputs": [
    {
     "data": {
      "text/plain": [
       "<function matplotlib.pyplot.show(*args, **kw)>"
      ]
     },
     "execution_count": 22,
     "metadata": {},
     "output_type": "execute_result"
    },
    {
     "data": {
      "image/png": "[encoded data removed]",
      "text/plain": [
       "<Figure size 432x288 with 1 Axes>"
      ]
     },
     "metadata": {
      "needs_background": "light"
     },
     "output_type": "display_data"
    },
    {
     "data": {
      "application/javascript": [
       "\n",
       "            setTimeout(function() {\n",
       "                var nbb_cell_id = 22;\n",
       "                var nbb_unformatted_code = \"sns.violinplot(x=\\\"Loss Reason\\\", y=\\\"Colonies Lost\\\", data=df_clean)\\nplt.show\";\n",
       "                var nbb_formatted_code = \"sns.violinplot(x=\\\"Loss Reason\\\", y=\\\"Colonies Lost\\\", data=df_clean)\\nplt.show\";\n",
       "                var nbb_cells = Jupyter.notebook.get_cells();\n",
       "                for (var i = 0; i < nbb_cells.length; ++i) {\n",
       "                    if (nbb_cells[i].input_prompt_number == nbb_cell_id) {\n",
       "                        if (nbb_cells[i].get_text() == nbb_unformatted_code) {\n",
       "                             nbb_cells[i].set_text(nbb_formatted_code);\n",
       "                        }\n",
       "                        break;\n",
       "                    }\n",
       "                }\n",
       "            }, 500);\n",
       "            "
      ],
      "text/plain": [
       "<IPython.core.display.Javascript object>"
      ]
     },
     "metadata": {},
     "output_type": "display_data"
    }
   ],
   "source": [
    "sns.violinplot(x=\"Loss Reason\", y=\"Colonies Lost\", data=df_clean)\n",
    "plt.show"
   ]
  },
  {
   "cell_type": "markdown",
   "metadata": {},
   "source": [
    "Bimodal distribution -- duh! 2 groups"
   ]
  },
  {
   "cell_type": "code",
   "execution_count": 23,
   "metadata": {},
   "outputs": [
    {
     "data": {
      "application/javascript": [
       "\n",
       "            setTimeout(function() {\n",
       "                var nbb_cell_id = 23;\n",
       "                var nbb_unformatted_code = \"ccd = df_clean[df_clean[\\\"Loss Reason\\\"] == \\\"CCD\\\"]\\ndeadout = df_clean[df_clean[\\\"Loss Reason\\\"] == \\\"DEADOUT\\\"]\";\n",
       "                var nbb_formatted_code = \"ccd = df_clean[df_clean[\\\"Loss Reason\\\"] == \\\"CCD\\\"]\\ndeadout = df_clean[df_clean[\\\"Loss Reason\\\"] == \\\"DEADOUT\\\"]\";\n",
       "                var nbb_cells = Jupyter.notebook.get_cells();\n",
       "                for (var i = 0; i < nbb_cells.length; ++i) {\n",
       "                    if (nbb_cells[i].input_prompt_number == nbb_cell_id) {\n",
       "                        if (nbb_cells[i].get_text() == nbb_unformatted_code) {\n",
       "                             nbb_cells[i].set_text(nbb_formatted_code);\n",
       "                        }\n",
       "                        break;\n",
       "                    }\n",
       "                }\n",
       "            }, 500);\n",
       "            "
      ],
      "text/plain": [
       "<IPython.core.display.Javascript object>"
      ]
     },
     "metadata": {},
     "output_type": "display_data"
    }
   ],
   "source": [
    "ccd = df_clean[df_clean[\"Loss Reason\"] == \"CCD\"]\n",
    "deadout = df_clean[df_clean[\"Loss Reason\"] == \"DEADOUT\"]"
   ]
  },
  {
   "cell_type": "code",
   "execution_count": 24,
   "metadata": {},
   "outputs": [
    {
     "data": {
      "text/html": [
       "<div>\n",
       "<style scoped>\n",
       "    .dataframe tbody tr th:only-of-type {\n",
       "        vertical-align: middle;\n",
       "    }\n",
       "\n",
       "    .dataframe tbody tr th {\n",
       "        vertical-align: top;\n",
       "    }\n",
       "\n",
       "    .dataframe thead th {\n",
       "        text-align: right;\n",
       "    }\n",
       "</style>\n",
       "<table border=\"1\" class=\"dataframe\">\n",
       "  <thead>\n",
       "    <tr style=\"text-align: right;\">\n",
       "      <th></th>\n",
       "      <th>Year</th>\n",
       "      <th>State ANSI</th>\n",
       "      <th>Colonies Lost</th>\n",
       "    </tr>\n",
       "  </thead>\n",
       "  <tbody>\n",
       "    <tr>\n",
       "      <th>count</th>\n",
       "      <td>228.000000</td>\n",
       "      <td>225.000000</td>\n",
       "      <td>228.000000</td>\n",
       "    </tr>\n",
       "    <tr>\n",
       "      <th>mean</th>\n",
       "      <td>2019.394737</td>\n",
       "      <td>29.888889</td>\n",
       "      <td>1631.359649</td>\n",
       "    </tr>\n",
       "    <tr>\n",
       "      <th>std</th>\n",
       "      <td>0.489870</td>\n",
       "      <td>15.551215</td>\n",
       "      <td>3121.574830</td>\n",
       "    </tr>\n",
       "    <tr>\n",
       "      <th>min</th>\n",
       "      <td>2019.000000</td>\n",
       "      <td>1.000000</td>\n",
       "      <td>0.000000</td>\n",
       "    </tr>\n",
       "    <tr>\n",
       "      <th>25%</th>\n",
       "      <td>2019.000000</td>\n",
       "      <td>18.000000</td>\n",
       "      <td>130.000000</td>\n",
       "    </tr>\n",
       "    <tr>\n",
       "      <th>50%</th>\n",
       "      <td>2019.000000</td>\n",
       "      <td>29.000000</td>\n",
       "      <td>425.000000</td>\n",
       "    </tr>\n",
       "    <tr>\n",
       "      <th>75%</th>\n",
       "      <td>2020.000000</td>\n",
       "      <td>42.000000</td>\n",
       "      <td>1500.000000</td>\n",
       "    </tr>\n",
       "    <tr>\n",
       "      <th>max</th>\n",
       "      <td>2020.000000</td>\n",
       "      <td>56.000000</td>\n",
       "      <td>19500.000000</td>\n",
       "    </tr>\n",
       "  </tbody>\n",
       "</table>\n",
       "</div>"
      ],
      "text/plain": [
       "              Year  State ANSI  Colonies Lost\n",
       "count   228.000000  225.000000     228.000000\n",
       "mean   2019.394737   29.888889    1631.359649\n",
       "std       0.489870   15.551215    3121.574830\n",
       "min    2019.000000    1.000000       0.000000\n",
       "25%    2019.000000   18.000000     130.000000\n",
       "50%    2019.000000   29.000000     425.000000\n",
       "75%    2020.000000   42.000000    1500.000000\n",
       "max    2020.000000   56.000000   19500.000000"
      ]
     },
     "execution_count": 24,
     "metadata": {},
     "output_type": "execute_result"
    },
    {
     "data": {
      "application/javascript": [
       "\n",
       "            setTimeout(function() {\n",
       "                var nbb_cell_id = 24;\n",
       "                var nbb_unformatted_code = \"ccd.describe()\";\n",
       "                var nbb_formatted_code = \"ccd.describe()\";\n",
       "                var nbb_cells = Jupyter.notebook.get_cells();\n",
       "                for (var i = 0; i < nbb_cells.length; ++i) {\n",
       "                    if (nbb_cells[i].input_prompt_number == nbb_cell_id) {\n",
       "                        if (nbb_cells[i].get_text() == nbb_unformatted_code) {\n",
       "                             nbb_cells[i].set_text(nbb_formatted_code);\n",
       "                        }\n",
       "                        break;\n",
       "                    }\n",
       "                }\n",
       "            }, 500);\n",
       "            "
      ],
      "text/plain": [
       "<IPython.core.display.Javascript object>"
      ]
     },
     "metadata": {},
     "output_type": "display_data"
    }
   ],
   "source": [
    "ccd.describe()"
   ]
  },
  {
   "cell_type": "code",
   "execution_count": 25,
   "metadata": {},
   "outputs": [
    {
     "data": {
      "text/html": [
       "<div>\n",
       "<style scoped>\n",
       "    .dataframe tbody tr th:only-of-type {\n",
       "        vertical-align: middle;\n",
       "    }\n",
       "\n",
       "    .dataframe tbody tr th {\n",
       "        vertical-align: top;\n",
       "    }\n",
       "\n",
       "    .dataframe thead th {\n",
       "        text-align: right;\n",
       "    }\n",
       "</style>\n",
       "<table border=\"1\" class=\"dataframe\">\n",
       "  <thead>\n",
       "    <tr style=\"text-align: right;\">\n",
       "      <th></th>\n",
       "      <th>Year</th>\n",
       "      <th>State ANSI</th>\n",
       "      <th>Colonies Lost</th>\n",
       "    </tr>\n",
       "  </thead>\n",
       "  <tbody>\n",
       "    <tr>\n",
       "      <th>count</th>\n",
       "      <td>230.000000</td>\n",
       "      <td>225.000000</td>\n",
       "      <td>230.000000</td>\n",
       "    </tr>\n",
       "    <tr>\n",
       "      <th>mean</th>\n",
       "      <td>2019.400000</td>\n",
       "      <td>29.888889</td>\n",
       "      <td>8235.260870</td>\n",
       "    </tr>\n",
       "    <tr>\n",
       "      <th>std</th>\n",
       "      <td>0.490966</td>\n",
       "      <td>15.551215</td>\n",
       "      <td>25564.065231</td>\n",
       "    </tr>\n",
       "    <tr>\n",
       "      <th>min</th>\n",
       "      <td>2019.000000</td>\n",
       "      <td>1.000000</td>\n",
       "      <td>30.000000</td>\n",
       "    </tr>\n",
       "    <tr>\n",
       "      <th>25%</th>\n",
       "      <td>2019.000000</td>\n",
       "      <td>18.000000</td>\n",
       "      <td>812.500000</td>\n",
       "    </tr>\n",
       "    <tr>\n",
       "      <th>50%</th>\n",
       "      <td>2019.000000</td>\n",
       "      <td>29.000000</td>\n",
       "      <td>1700.000000</td>\n",
       "    </tr>\n",
       "    <tr>\n",
       "      <th>75%</th>\n",
       "      <td>2020.000000</td>\n",
       "      <td>42.000000</td>\n",
       "      <td>4875.000000</td>\n",
       "    </tr>\n",
       "    <tr>\n",
       "      <th>max</th>\n",
       "      <td>2020.000000</td>\n",
       "      <td>56.000000</td>\n",
       "      <td>235000.000000</td>\n",
       "    </tr>\n",
       "  </tbody>\n",
       "</table>\n",
       "</div>"
      ],
      "text/plain": [
       "              Year  State ANSI  Colonies Lost\n",
       "count   230.000000  225.000000     230.000000\n",
       "mean   2019.400000   29.888889    8235.260870\n",
       "std       0.490966   15.551215   25564.065231\n",
       "min    2019.000000    1.000000      30.000000\n",
       "25%    2019.000000   18.000000     812.500000\n",
       "50%    2019.000000   29.000000    1700.000000\n",
       "75%    2020.000000   42.000000    4875.000000\n",
       "max    2020.000000   56.000000  235000.000000"
      ]
     },
     "execution_count": 25,
     "metadata": {},
     "output_type": "execute_result"
    },
    {
     "data": {
      "application/javascript": [
       "\n",
       "            setTimeout(function() {\n",
       "                var nbb_cell_id = 25;\n",
       "                var nbb_unformatted_code = \"deadout.describe()\";\n",
       "                var nbb_formatted_code = \"deadout.describe()\";\n",
       "                var nbb_cells = Jupyter.notebook.get_cells();\n",
       "                for (var i = 0; i < nbb_cells.length; ++i) {\n",
       "                    if (nbb_cells[i].input_prompt_number == nbb_cell_id) {\n",
       "                        if (nbb_cells[i].get_text() == nbb_unformatted_code) {\n",
       "                             nbb_cells[i].set_text(nbb_formatted_code);\n",
       "                        }\n",
       "                        break;\n",
       "                    }\n",
       "                }\n",
       "            }, 500);\n",
       "            "
      ],
      "text/plain": [
       "<IPython.core.display.Javascript object>"
      ]
     },
     "metadata": {},
     "output_type": "display_data"
    }
   ],
   "source": [
    "deadout.describe()"
   ]
  },
  {
   "cell_type": "code",
   "execution_count": 26,
   "metadata": {},
   "outputs": [
    {
     "data": {
      "image/png": "[encoded data removed]",
      "text/plain": [
       "<Figure size 432x288 with 1 Axes>"
      ]
     },
     "metadata": {
      "needs_background": "light"
     },
     "output_type": "display_data"
    },
    {
     "data": {
      "application/javascript": [
       "\n",
       "            setTimeout(function() {\n",
       "                var nbb_cell_id = 26;\n",
       "                var nbb_unformatted_code = \"plt.hist(ccd[\\\"Colonies Lost\\\"])\\nplt.hist(deadout[\\\"Colonies Lost\\\"], alpha=0.5)\\nplt.show()\";\n",
       "                var nbb_formatted_code = \"plt.hist(ccd[\\\"Colonies Lost\\\"])\\nplt.hist(deadout[\\\"Colonies Lost\\\"], alpha=0.5)\\nplt.show()\";\n",
       "                var nbb_cells = Jupyter.notebook.get_cells();\n",
       "                for (var i = 0; i < nbb_cells.length; ++i) {\n",
       "                    if (nbb_cells[i].input_prompt_number == nbb_cell_id) {\n",
       "                        if (nbb_cells[i].get_text() == nbb_unformatted_code) {\n",
       "                             nbb_cells[i].set_text(nbb_formatted_code);\n",
       "                        }\n",
       "                        break;\n",
       "                    }\n",
       "                }\n",
       "            }, 500);\n",
       "            "
      ],
      "text/plain": [
       "<IPython.core.display.Javascript object>"
      ]
     },
     "metadata": {},
     "output_type": "display_data"
    }
   ],
   "source": [
    "plt.hist(ccd[\"Colonies Lost\"])\n",
    "plt.hist(deadout[\"Colonies Lost\"], alpha=0.5)\n",
    "plt.show()"
   ]
  },
  {
   "cell_type": "code",
   "execution_count": 27,
   "metadata": {},
   "outputs": [
    {
     "data": {
      "image/png": "[encoded data removed]",
      "text/plain": [
       "<Figure size 432x288 with 1 Axes>"
      ]
     },
     "metadata": {
      "needs_background": "light"
     },
     "output_type": "display_data"
    },
    {
     "data": {
      "application/javascript": [
       "\n",
       "            setTimeout(function() {\n",
       "                var nbb_cell_id = 27;\n",
       "                var nbb_unformatted_code = \"# quantile-quantile plot\\nqqplot(ccd[\\\"Colonies Lost\\\"], line=\\\"s\\\")\\nplt.show()\";\n",
       "                var nbb_formatted_code = \"# quantile-quantile plot\\nqqplot(ccd[\\\"Colonies Lost\\\"], line=\\\"s\\\")\\nplt.show()\";\n",
       "                var nbb_cells = Jupyter.notebook.get_cells();\n",
       "                for (var i = 0; i < nbb_cells.length; ++i) {\n",
       "                    if (nbb_cells[i].input_prompt_number == nbb_cell_id) {\n",
       "                        if (nbb_cells[i].get_text() == nbb_unformatted_code) {\n",
       "                             nbb_cells[i].set_text(nbb_formatted_code);\n",
       "                        }\n",
       "                        break;\n",
       "                    }\n",
       "                }\n",
       "            }, 500);\n",
       "            "
      ],
      "text/plain": [
       "<IPython.core.display.Javascript object>"
      ]
     },
     "metadata": {},
     "output_type": "display_data"
    }
   ],
   "source": [
    "# quantile-quantile plot\n",
    "qqplot(ccd[\"Colonies Lost\"], line=\"s\")\n",
    "plt.show()"
   ]
  },
  {
   "cell_type": "code",
   "execution_count": 28,
   "metadata": {},
   "outputs": [
    {
     "data": {
      "image/png": "[encoded data removed]",
      "text/plain": [
       "<Figure size 432x288 with 1 Axes>"
      ]
     },
     "metadata": {
      "needs_background": "light"
     },
     "output_type": "display_data"
    },
    {
     "data": {
      "application/javascript": [
       "\n",
       "            setTimeout(function() {\n",
       "                var nbb_cell_id = 28;\n",
       "                var nbb_unformatted_code = \"# quantile-quantile plot\\nqqplot(deadout[\\\"Colonies Lost\\\"], line=\\\"s\\\")\\nplt.show()\";\n",
       "                var nbb_formatted_code = \"# quantile-quantile plot\\nqqplot(deadout[\\\"Colonies Lost\\\"], line=\\\"s\\\")\\nplt.show()\";\n",
       "                var nbb_cells = Jupyter.notebook.get_cells();\n",
       "                for (var i = 0; i < nbb_cells.length; ++i) {\n",
       "                    if (nbb_cells[i].input_prompt_number == nbb_cell_id) {\n",
       "                        if (nbb_cells[i].get_text() == nbb_unformatted_code) {\n",
       "                             nbb_cells[i].set_text(nbb_formatted_code);\n",
       "                        }\n",
       "                        break;\n",
       "                    }\n",
       "                }\n",
       "            }, 500);\n",
       "            "
      ],
      "text/plain": [
       "<IPython.core.display.Javascript object>"
      ]
     },
     "metadata": {},
     "output_type": "display_data"
    }
   ],
   "source": [
    "# quantile-quantile plot\n",
    "qqplot(deadout[\"Colonies Lost\"], line=\"s\")\n",
    "plt.show()"
   ]
  },
  {
   "cell_type": "code",
   "execution_count": 29,
   "metadata": {},
   "outputs": [
    {
     "data": {
      "text/plain": [
       "1.4555543281555452e-19"
      ]
     },
     "execution_count": 29,
     "metadata": {},
     "output_type": "execute_result"
    },
    {
     "data": {
      "application/javascript": [
       "\n",
       "            setTimeout(function() {\n",
       "                var nbb_cell_id = 29;\n",
       "                var nbb_unformatted_code = \"# Carrying out the Mann\\u2013Whitney test\\n_, p = stats.mannwhitneyu(ccd[\\\"Colonies Lost\\\"], deadout[\\\"Colonies Lost\\\"])\\np\";\n",
       "                var nbb_formatted_code = \"# Carrying out the Mann\\u2013Whitney test\\n_, p = stats.mannwhitneyu(ccd[\\\"Colonies Lost\\\"], deadout[\\\"Colonies Lost\\\"])\\np\";\n",
       "                var nbb_cells = Jupyter.notebook.get_cells();\n",
       "                for (var i = 0; i < nbb_cells.length; ++i) {\n",
       "                    if (nbb_cells[i].input_prompt_number == nbb_cell_id) {\n",
       "                        if (nbb_cells[i].get_text() == nbb_unformatted_code) {\n",
       "                             nbb_cells[i].set_text(nbb_formatted_code);\n",
       "                        }\n",
       "                        break;\n",
       "                    }\n",
       "                }\n",
       "            }, 500);\n",
       "            "
      ],
      "text/plain": [
       "<IPython.core.display.Javascript object>"
      ]
     },
     "metadata": {},
     "output_type": "display_data"
    }
   ],
   "source": [
    "# Carrying out the Mann–Whitney test\n",
    "_, p = stats.mannwhitneyu(ccd[\"Colonies Lost\"], deadout[\"Colonies Lost\"])\n",
    "p\n"
   ]
  },
  {
   "cell_type": "code",
   "execution_count": 30,
   "metadata": {},
   "outputs": [
    {
     "data": {
      "text/plain": [
       "True"
      ]
     },
     "execution_count": 30,
     "metadata": {},
     "output_type": "execute_result"
    },
    {
     "data": {
      "application/javascript": [
       "\n",
       "            setTimeout(function() {\n",
       "                var nbb_cell_id = 30;\n",
       "                var nbb_unformatted_code = \"p < 0.05\";\n",
       "                var nbb_formatted_code = \"p < 0.05\";\n",
       "                var nbb_cells = Jupyter.notebook.get_cells();\n",
       "                for (var i = 0; i < nbb_cells.length; ++i) {\n",
       "                    if (nbb_cells[i].input_prompt_number == nbb_cell_id) {\n",
       "                        if (nbb_cells[i].get_text() == nbb_unformatted_code) {\n",
       "                             nbb_cells[i].set_text(nbb_formatted_code);\n",
       "                        }\n",
       "                        break;\n",
       "                    }\n",
       "                }\n",
       "            }, 500);\n",
       "            "
      ],
      "text/plain": [
       "<IPython.core.display.Javascript object>"
      ]
     },
     "metadata": {},
     "output_type": "display_data"
    }
   ],
   "source": [
    "p < 0.05"
   ]
  },
  {
   "cell_type": "markdown",
   "metadata": {},
   "source": [
    "There is a significant difference in median rank between the colonies lost due to Colony Colapse Disorder and the colonies lost due Deadout"
   ]
  },
  {
   "cell_type": "markdown",
   "metadata": {},
   "source": [
    "The test shows that the colobnies loss due two the 2 reasons - ccd & deadout are statstically signigicant different."
   ]
  },
  {
   "cell_type": "markdown",
   "metadata": {},
   "source": [
    "Bootsrapped CI of median diff"
   ]
  },
  {
   "cell_type": "code",
   "execution_count": 32,
   "metadata": {},
   "outputs": [
    {
     "data": {
      "text/plain": [
       "(-1780.0, -990.0)"
      ]
     },
     "execution_count": 32,
     "metadata": {},
     "output_type": "execute_result"
    },
    {
     "data": {
      "application/javascript": [
       "\n",
       "            setTimeout(function() {\n",
       "                var nbb_cell_id = 32;\n",
       "                var nbb_unformatted_code = \"median_diffs = []\\nfor i in range(10000):\\n    s1 = ccd[\\\"Colonies Lost\\\"].sample(frac=1.0, replace=True)\\n    s2 = deadout[\\\"Colonies Lost\\\"].sample(frac=1.0, replace=True)\\n\\n    median_diff = s1.median() - s2.median()\\n    median_diffs.append(median_diff)\\n\\n\\n\\nci_lo = np.percentile(median_diffs, 2.5)\\nci_hi = np.percentile(median_diffs, 97.5)\\n\\nci_lo, ci_hi\";\n",
       "                var nbb_formatted_code = \"median_diffs = []\\nfor i in range(10000):\\n    s1 = ccd[\\\"Colonies Lost\\\"].sample(frac=1.0, replace=True)\\n    s2 = deadout[\\\"Colonies Lost\\\"].sample(frac=1.0, replace=True)\\n\\n    median_diff = s1.median() - s2.median()\\n    median_diffs.append(median_diff)\\n\\n\\nci_lo = np.percentile(median_diffs, 2.5)\\nci_hi = np.percentile(median_diffs, 97.5)\\n\\nci_lo, ci_hi\";\n",
       "                var nbb_cells = Jupyter.notebook.get_cells();\n",
       "                for (var i = 0; i < nbb_cells.length; ++i) {\n",
       "                    if (nbb_cells[i].input_prompt_number == nbb_cell_id) {\n",
       "                        if (nbb_cells[i].get_text() == nbb_unformatted_code) {\n",
       "                             nbb_cells[i].set_text(nbb_formatted_code);\n",
       "                        }\n",
       "                        break;\n",
       "                    }\n",
       "                }\n",
       "            }, 500);\n",
       "            "
      ],
      "text/plain": [
       "<IPython.core.display.Javascript object>"
      ]
     },
     "metadata": {},
     "output_type": "display_data"
    }
   ],
   "source": [
    "median_diffs = []\n",
    "for i in range(10000):\n",
    "    s1 = ccd[\"Colonies Lost\"].sample(frac=1.0, replace=True)\n",
    "    s2 = deadout[\"Colonies Lost\"].sample(frac=1.0, replace=True)\n",
    "\n",
    "    median_diff = s1.median() - s2.median()\n",
    "    median_diffs.append(median_diff)\n",
    "\n",
    "\n",
    "\n",
    "ci_lo = np.percentile(median_diffs, 2.5)\n",
    "ci_hi = np.percentile(median_diffs, 97.5)\n",
    "\n",
    "ci_lo, ci_hi\n"
   ]
  },
  {
   "cell_type": "code",
   "execution_count": 33,
   "metadata": {},
   "outputs": [
    {
     "data": {
      "image/png": "[encoded data removed]",
      "text/plain": [
       "<Figure size 432x288 with 1 Axes>"
      ]
     },
     "metadata": {
      "needs_background": "light"
     },
     "output_type": "display_data"
    },
    {
     "data": {
      "application/javascript": [
       "\n",
       "            setTimeout(function() {\n",
       "                var nbb_cell_id = 33;\n",
       "                var nbb_unformatted_code = \"plt.hist(median_diffs)\\nplt.axvline(ci_lo, label=\\\"2.5 Percentile\\\", c=\\\"orange\\\")\\nplt.axvline(ci_hi, label=\\\"97.5 Percentile\\\", c=\\\"orange\\\")\\nplt.legend()\\nplt.show()\";\n",
       "                var nbb_formatted_code = \"plt.hist(median_diffs)\\nplt.axvline(ci_lo, label=\\\"2.5 Percentile\\\", c=\\\"orange\\\")\\nplt.axvline(ci_hi, label=\\\"97.5 Percentile\\\", c=\\\"orange\\\")\\nplt.legend()\\nplt.show()\";\n",
       "                var nbb_cells = Jupyter.notebook.get_cells();\n",
       "                for (var i = 0; i < nbb_cells.length; ++i) {\n",
       "                    if (nbb_cells[i].input_prompt_number == nbb_cell_id) {\n",
       "                        if (nbb_cells[i].get_text() == nbb_unformatted_code) {\n",
       "                             nbb_cells[i].set_text(nbb_formatted_code);\n",
       "                        }\n",
       "                        break;\n",
       "                    }\n",
       "                }\n",
       "            }, 500);\n",
       "            "
      ],
      "text/plain": [
       "<IPython.core.display.Javascript object>"
      ]
     },
     "metadata": {},
     "output_type": "display_data"
    }
   ],
   "source": [
    "plt.hist(median_diffs)\n",
    "plt.axvline(ci_lo, label=\"2.5 Percentile\", c=\"orange\")\n",
    "plt.axvline(ci_hi, label=\"97.5 Percentile\", c=\"orange\")\n",
    "plt.legend()\n",
    "plt.show()"
   ]
  },
  {
   "cell_type": "markdown",
   "metadata": {},
   "source": [
    "We are 95% confident that the typical number of colonies lost because of Deadout is 115 to 430 more than the number of colonies lost because of Colony Colapse Disorder"
   ]
  },
  {
   "cell_type": "code",
   "execution_count": null,
   "metadata": {},
   "outputs": [],
   "source": []
  },
  {
   "cell_type": "code",
   "execution_count": null,
   "metadata": {},
   "outputs": [],
   "source": [
    "df_clean[\"Year\"].value_counts()"
   ]
  },
  {
   "cell_type": "code",
   "execution_count": null,
   "metadata": {},
   "outputs": [],
   "source": [
    "df_clean[\"Period\"].value_counts()"
   ]
  },
  {
   "cell_type": "code",
   "execution_count": null,
   "metadata": {},
   "outputs": [],
   "source": [
    "df_clean.groupby([\"Year\", \"Period\"]).size()"
   ]
  },
  {
   "cell_type": "code",
   "execution_count": null,
   "metadata": {},
   "outputs": [],
   "source": [
    "df_clean.groupby([\"Year\", \"State\"]).size()"
   ]
  },
  {
   "cell_type": "code",
   "execution_count": null,
   "metadata": {},
   "outputs": [],
   "source": [
    "df_clean[\"State\"].value_counts()"
   ]
  },
  {
   "cell_type": "code",
   "execution_count": null,
   "metadata": {},
   "outputs": [],
   "source": [
    "df_clean.groupby([\"Loss Reason\", \"Period\"]).count()"
   ]
  },
  {
   "cell_type": "code",
   "execution_count": null,
   "metadata": {},
   "outputs": [],
   "source": []
  }
 ],
 "metadata": {
  "kernelspec": {
   "display_name": "Python 3",
   "language": "python",
   "name": "python3"
  },
  "language_info": {
   "codemirror_mode": {
    "name": "ipython",
    "version": 3
   },
   "file_extension": ".py",
   "mimetype": "text/x-python",
   "name": "python",
   "nbconvert_exporter": "python",
   "pygments_lexer": "ipython3",
   "version": "3.7.7"
  }
 },
 "nbformat": 4,
 "nbformat_minor": 4
}
